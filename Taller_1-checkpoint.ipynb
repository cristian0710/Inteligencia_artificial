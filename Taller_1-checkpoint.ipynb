{
 "cells": [
  {
   "cell_type": "code",
   "execution_count": 22,
   "metadata": {},
   "outputs": [
    {
     "name": "stdout",
     "output_type": "stream",
     "text": [
      "[20, 19, 18, 17, 17, 17, 17, 16, 15, 14, 14, 13, 12, 11, 10, 9, 8, 7, 6, 5, 4, 3, 3, 3, 2, 1]\n"
     ]
    }
   ],
   "source": [
    "lista=[20,19,18,17,17,17,17,16,15,14,14,13,12,11,10,9,8,7,6,5,4,3,3,3,2,1]\n",
    "print(lista)"
   ]
  },
  {
   "cell_type": "code",
   "execution_count": 23,
   "metadata": {},
   "outputs": [
    {
     "name": "stdout",
     "output_type": "stream",
     "text": [
      "[1, 2, 3, 3, 3, 4, 5, 6, 7, 8, 9, 10, 11, 12, 13, 14, 14, 15, 16, 17, 17, 17, 17, 18, 19, 20]\n"
     ]
    }
   ],
   "source": [
    "lista.sort()\n",
    "print(lista)"
   ]
  },
  {
   "cell_type": "code",
   "execution_count": 24,
   "metadata": {},
   "outputs": [
    {
     "name": "stdout",
     "output_type": "stream",
     "text": [
      "10.807692307692308\n"
     ]
    }
   ],
   "source": [
    "lista=[20,19,18,17,17,17,17,16,15,14,14,13,12,11,10,9,8,7,6,5,4,3,3,3,2,1]\n",
    "tamañoList=len(lista)\n",
    "prom=sum(lista)/tamañoList\n",
    "print (prom)"
   ]
  },
  {
   "cell_type": "code",
   "execution_count": 25,
   "metadata": {},
   "outputs": [
    {
     "name": "stdout",
     "output_type": "stream",
     "text": [
      "17\n"
     ]
    }
   ],
   "source": [
    "lista=[20,19,18,17,17,17,17,16,15,14,14,13,12,11,10,9,8,7,6,5,4,3,3,3,2,1]\n",
    "def moda(lista):\n",
    "    per=0\n",
    "    cont=0\n",
    "    moda=-1\n",
    "    lista.sort()\n",
    "    for i in range(len(lista)-1):\n",
    "        if (lista[i] == lista[i+1]):\n",
    "            cont=cont + 1\n",
    "            if cont>=per:\n",
    "                per=cont\n",
    "                moda=lista[i]\n",
    "        else:\n",
    "            cont=0\n",
    " \n",
    "    return moda\n",
    "\n",
    "print(moda(lista))"
   ]
  },
  {
   "cell_type": "code",
   "execution_count": 29,
   "metadata": {},
   "outputs": [
    {
     "ename": "TypeError",
     "evalue": "object of type 'NoneType' has no len()",
     "output_type": "error",
     "traceback": [
      "\u001b[1;31m---------------------------------------------------------------------------\u001b[0m",
      "\u001b[1;31mTypeError\u001b[0m                                 Traceback (most recent call last)",
      "\u001b[1;32m<ipython-input-29-4c22c4c71992>\u001b[0m in \u001b[0;36m<module>\u001b[1;34m()\u001b[0m\n\u001b[0;32m      2\u001b[0m \u001b[0mtamañoList\u001b[0m\u001b[1;33m=\u001b[0m \u001b[0mlen\u001b[0m\u001b[1;33m(\u001b[0m\u001b[0mlista\u001b[0m\u001b[1;33m)\u001b[0m\u001b[1;33m\u001b[0m\u001b[0m\n\u001b[0;32m      3\u001b[0m \u001b[0mordenada\u001b[0m\u001b[1;33m=\u001b[0m \u001b[0mlista\u001b[0m\u001b[1;33m.\u001b[0m\u001b[0msort\u001b[0m\u001b[1;33m(\u001b[0m\u001b[1;33m)\u001b[0m\u001b[1;33m\u001b[0m\u001b[0m\n\u001b[1;32m----> 4\u001b[1;33m \u001b[0mLongitudListaOrdenada\u001b[0m \u001b[1;33m=\u001b[0m \u001b[0mlen\u001b[0m\u001b[1;33m(\u001b[0m\u001b[0mordenada\u001b[0m\u001b[1;33m)\u001b[0m\u001b[1;33m\u001b[0m\u001b[0m\n\u001b[0m\u001b[0;32m      5\u001b[0m \u001b[1;32mdef\u001b[0m \u001b[0mmediana\u001b[0m\u001b[1;33m(\u001b[0m\u001b[1;33m)\u001b[0m\u001b[1;33m:\u001b[0m\u001b[1;33m\u001b[0m\u001b[0m\n\u001b[0;32m      6\u001b[0m     \u001b[1;32mif\u001b[0m \u001b[0mtamañoList\u001b[0m \u001b[1;33m%\u001b[0m \u001b[1;36m2\u001b[0m \u001b[1;33m==\u001b[0m \u001b[1;36m0\u001b[0m\u001b[1;33m:\u001b[0m\u001b[1;33m\u001b[0m\u001b[0m\n",
      "\u001b[1;31mTypeError\u001b[0m: object of type 'NoneType' has no len()"
     ]
    }
   ],
   "source": [
    "lista=[20,19,18,17,17,17,17,16,15,14,14,13,12,11,10,9,8,7,6,5,4,3,3,3,2,1]\n",
    "tamañoList= len(lista)\n",
    "ordenada= lista.sort()\n",
    "LongitudListaOrdenada = len(ordenada)\n",
    "def mediana():\n",
    "    if tamañoList % 2 == 0:\n",
    "        mediana =  (ordenada[(tamañoList // 2) - 1] + ordenada[LongitudListaOrdenada // 2]) // 2\n",
    "    else:\n",
    "        mediana = listaOrdenada[LongitudListaOrdenada // 2]\n",
    "    return mediana"
   ]
  },
  {
   "cell_type": "code",
   "execution_count": null,
   "metadata": {},
   "outputs": [],
   "source": [
    "from math import sqrt"
   ]
  }
 ],
 "metadata": {
  "kernelspec": {
   "display_name": "Python 3",
   "language": "python",
   "name": "python3"
  },
  "language_info": {
   "codemirror_mode": {
    "name": "ipython",
    "version": 3
   },
   "file_extension": ".py",
   "mimetype": "text/x-python",
   "name": "python",
   "nbconvert_exporter": "python",
   "pygments_lexer": "ipython3",
   "version": "3.6.4"
  }
 },
 "nbformat": 4,
 "nbformat_minor": 2
}
